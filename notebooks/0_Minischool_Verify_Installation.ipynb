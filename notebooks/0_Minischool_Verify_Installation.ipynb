{
 "cells": [
  {
   "cell_type": "code",
   "execution_count": 1,
   "id": "9352f3b5",
   "metadata": {
    "ExecuteTime": {
     "end_time": "2024-06-16T12:45:51.911132Z",
     "start_time": "2024-06-16T12:45:38.327552Z"
    }
   },
   "outputs": [],
   "source": [
    "import os\n",
    "import os.path as osp\n",
    "from mne import get_config\n",
    "from moabb.utils import set_download_dir"
   ]
  },
  {
   "cell_type": "markdown",
   "id": "8100e378",
   "metadata": {},
   "source": [
    "# Verify MOABB Installation\n",
    "\n",
    "This very short notebook is meant to ensure that Python, MOABB and the datasets are correctly installed for the minischool.\n",
    "\n",
    "## Setting the download directory (optional)\n",
    "\n",
    "Using MOABB, it is very easy to download and to extract EEG data from open datasets. Let's first select where we want to download the datasets. You could safely skip this part if have no specific requirements on your computer."
   ]
  },
  {
   "cell_type": "markdown",
   "id": "a28ce44e",
   "metadata": {},
   "source": [
    "You can choose to change the download directory to any path of your choice. If the path/folder doesn’t exist, it will be created for you."
   ]
  },
  {
   "cell_type": "code",
   "execution_count": 2,
   "id": "58f0e16f",
   "metadata": {
    "ExecuteTime": {
     "end_time": "2024-06-16T12:46:07.551022Z",
     "start_time": "2024-06-16T12:46:07.535710Z"
    }
   },
   "outputs": [
    {
     "name": "stdout",
     "output_type": "stream",
     "text": [
      "The download directory is currently /Users/marieconstance.corsi/mne_data_test\n"
     ]
    }
   ],
   "source": [
    "original_path = get_config(\"MNE_DATA\")\n",
    "print(f\"The download directory is currently {original_path}\")\n",
    "new_path = osp.join(osp.expanduser(\"~\"), \"mne_data_test\")\n",
    "set_download_dir(new_path)"
   ]
  },
  {
   "cell_type": "markdown",
   "id": "0f9bae90",
   "metadata": {},
   "source": [
    "You could verify that the MNE config has been changed correctly"
   ]
  },
  {
   "cell_type": "code",
   "execution_count": 3,
   "id": "ada4ba3f",
   "metadata": {
    "ExecuteTime": {
     "end_time": "2024-06-16T12:46:14.572582Z",
     "start_time": "2024-06-16T12:46:14.565794Z"
    }
   },
   "outputs": [
    {
     "name": "stdout",
     "output_type": "stream",
     "text": [
      "Now the download directory has been changed to /Users/marieconstance.corsi/mne_data_test\n"
     ]
    }
   ],
   "source": [
    "check_path = get_config(\"MNE_DATA\")\n",
    "print(f\"Now the download directory has been changed to {check_path}\")"
   ]
  },
  {
   "cell_type": "markdown",
   "id": "8573ee1d",
   "metadata": {},
   "source": [
    "## Downloading or copying datasets\n",
    "\n",
    "As the bandwith will be limited during the minischool, we have already prepared the datasets: several USB key are available and you could copy/paste the files directly on your computer.\n",
    "\n",
    "Your should copy the datasets inside the `mne_data` that is in your home directory or in the folder you specified above. If you are not sure, please ask! \n",
    "\n",
    "You should see at least the 'MNE-bnci-data' and the  'MNE-zhou-2016' folders as listed below when you execute the following code:"
   ]
  },
  {
   "cell_type": "code",
   "execution_count": 4,
   "id": "a3f6d75e",
   "metadata": {
    "ExecuteTime": {
     "end_time": "2024-06-16T12:46:21.212765Z",
     "start_time": "2024-06-16T12:46:21.203410Z"
    }
   },
   "outputs": [
    {
     "name": "stdout",
     "output_type": "stream",
     "text": [
      "The folder /Users/marieconstance.corsi/mne_data_test contains:\n"
     ]
    },
    {
     "data": {
      "text/plain": [
       "['MNE-bnci-data']"
      ]
     },
     "execution_count": 4,
     "metadata": {},
     "output_type": "execute_result"
    }
   ],
   "source": [
    "dataset_path = get_config(\"MNE_DATA\")\n",
    "print(f\"The folder {check_path} contains:\")\n",
    "os.listdir(dataset_path)"
   ]
  },
  {
   "cell_type": "code",
   "execution_count": null,
   "id": "eaf83a59",
   "metadata": {},
   "outputs": [],
   "source": []
  }
 ],
 "metadata": {
  "kernelspec": {
   "display_name": "Python 3 (ipykernel)",
   "language": "python",
   "name": "python3"
  },
  "language_info": {
   "codemirror_mode": {
    "name": "ipython",
    "version": 3
   },
   "file_extension": ".py",
   "mimetype": "text/x-python",
   "name": "python",
   "nbconvert_exporter": "python",
   "pygments_lexer": "ipython3",
   "version": "3.9.19"
  }
 },
 "nbformat": 4,
 "nbformat_minor": 5
}
